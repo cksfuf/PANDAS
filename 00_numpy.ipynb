{
 "cells": [
  {
   "cell_type": "markdown",
   "id": "715d8f5d-44bb-4916-8484-2d066d25a4d2",
   "metadata": {},
   "source": [
    "# numpy"
   ]
  },
  {
   "cell_type": "code",
   "execution_count": 3,
   "id": "523270f3-938f-410a-a567-c86d2e700ec4",
   "metadata": {},
   "outputs": [],
   "source": [
    "a1 = [1, 2, 3]\n",
    "# a2 = [\n",
    "#     [1,2,3],\n",
    "#     [4,5,6]\n",
    "#     [7,8,9]\n",
    "# ]\n",
    "# 리스트 안에 또 다른 리스트 구성 가능\n",
    "# a1은 123이 왼쪽에서 오른쪽으로 저장된 1차원 리스트\n",
    "# a2는 3행 3열을 가지는 2차원 상태\n",
    "    # a2[0]번째 데이터는 [1, 2, 3] a2[0][0] 은 1\n",
    "# 논리적으로 3차원, 4차원 전부 가능\n",
    "# numpy 기능 중 하나는 python에서 다차원 계산을 쉽게 해줌. "
   ]
  },
  {
   "cell_type": "code",
   "execution_count": 5,
   "id": "231df19d-cfe2-4981-a144-241902be9dc4",
   "metadata": {},
   "outputs": [],
   "source": [
    "import numpy as np\n",
    "# numpy 를 np로 줄여부르겠다는 뜻"
   ]
  },
  {
   "cell_type": "code",
   "execution_count": 10,
   "id": "20905983-3891-4307-9fb6-9cdd5b8e1014",
   "metadata": {},
   "outputs": [],
   "source": [
    "my_arr = np.arange(1000) # arange(): 백만개의 리스트를 만듬\n",
    "my_list = list(range(1000)) # 파이썬 리스트로 백만개의 리스트 만듬\n",
    "\n",
    "# 둘다 같은 코드임"
   ]
  },
  {
   "cell_type": "code",
   "execution_count": 20,
   "id": "b7945189-3af7-42c7-90fd-88d720820504",
   "metadata": {},
   "outputs": [
    {
     "name": "stdout",
     "output_type": "stream",
     "text": [
      "1.33 μs ± 4.02 ns per loop (mean ± std. dev. of 7 runs, 1,000,000 loops each)\n",
      "26.7 μs ± 52.1 ns per loop (mean ± std. dev. of 7 runs, 10,000 loops each)\n"
     ]
    }
   ],
   "source": [
    "%timeit my_arr2 = my_arr * 2\n",
    "%timeit my_list2 = [x * 2 for x in my_list]\n",
    "# 행렬 계산 식임.\n",
    "# %timeit 는 오른쪽 식 실행이 얼마나 걸렸는지 보여줌"
   ]
  },
  {
   "cell_type": "code",
   "execution_count": 13,
   "id": "d25ce20e-e1c2-4aa4-b982-74296d2ed3e5",
   "metadata": {},
   "outputs": [
    {
     "name": "stdout",
     "output_type": "stream",
     "text": [
      "[[   5.     1.1   -5. ]\n",
      " [ 123.  -123.     0. ]]\n"
     ]
    }
   ],
   "source": [
    "a = [\n",
    "    [5, 1.1, -5],\n",
    "    [123, -123, 0]\n",
    "]\n",
    "data = np.array(a)\n",
    "print(data)\n",
    "# list 함수로 생각하면 편함.\n",
    "# 데이터 형태를 통일시켜 계산."
   ]
  },
  {
   "cell_type": "code",
   "execution_count": 16,
   "id": "5d581fb0-0cc1-4042-88c8-bd0f6c22e4fd",
   "metadata": {},
   "outputs": [
    {
     "name": "stdout",
     "output_type": "stream",
     "text": [
      "[[   50.    11.   -50.]\n",
      " [ 1230. -1230.     0.]]\n",
      "[[  10.     2.2  -10. ]\n",
      " [ 246.  -246.     0. ]]\n"
     ]
    }
   ],
   "source": [
    "print(data * 10) # 모든 값에 * 10 이됨.\n",
    "print(data + data) # 같은 행렬에서 계산됨. * 2 기능"
   ]
  },
  {
   "cell_type": "code",
   "execution_count": 19,
   "id": "dd146087-d33a-4181-b889-65fba87dc7c0",
   "metadata": {},
   "outputs": [
    {
     "name": "stdout",
     "output_type": "stream",
     "text": [
      "(2, 3)\n"
     ]
    }
   ],
   "source": [
    "print(data.shape) # 2열 3행"
   ]
  },
  {
   "cell_type": "code",
   "execution_count": 18,
   "id": "24d661e8-27b1-45af-8924-de907e0a6bb4",
   "metadata": {},
   "outputs": [
    {
     "name": "stdout",
     "output_type": "stream",
     "text": [
      "float64\n"
     ]
    }
   ],
   "source": [
    "print(data.dtype)"
   ]
  },
  {
   "cell_type": "markdown",
   "id": "651936fa-f467-4927-ad26-b78e0e1eb4a9",
   "metadata": {},
   "source": [
    "## 1.1 ndarray 생성"
   ]
  },
  {
   "cell_type": "code",
   "execution_count": 23,
   "id": "bce850b1-1abc-4076-aba4-80aac30956c1",
   "metadata": {},
   "outputs": [
    {
     "name": "stdout",
     "output_type": "stream",
     "text": [
      "[4.  1.  2.  6.  3.1]\n"
     ]
    }
   ],
   "source": [
    "my_list = [4, 1, 2, 6, 3.1]\n",
    "arr = np.array(my_list)\n",
    "print(arr)\n",
    "# numpy는 범위가 넓은 타입에 맞추서 데이터를 변환시킴\n",
    "# 그래서 3.1로 인해 결고값에 다 소수점이 붙음"
   ]
  },
  {
   "cell_type": "code",
   "execution_count": 24,
   "id": "6d9fd241-83ba-400e-a5e7-40fc8db917f6",
   "metadata": {},
   "outputs": [
    {
     "name": "stdout",
     "output_type": "stream",
     "text": [
      "[[1 2 3 4]\n",
      " [5 6 7 8]]\n"
     ]
    }
   ],
   "source": [
    "my_list2 = [[1, 2, 3, 4], [5, 6, 7, 8]]\n",
    "arr2 = np.array(my_list2)\n",
    "print(arr2)"
   ]
  },
  {
   "cell_type": "code",
   "execution_count": 26,
   "id": "282f0e87-8545-46af-a7a8-d168de5f05d5",
   "metadata": {},
   "outputs": [
    {
     "name": "stdout",
     "output_type": "stream",
     "text": [
      "float64\n",
      "int64\n"
     ]
    }
   ],
   "source": [
    "print(arr.dtype)\n",
    "print(arr2.dtype)\n",
    "# 64비트가 기본값. 2^64\n",
    "# int64 (정수형 데이터 타입)\n",
    "# float64 (부동 소수점 데이터 타입)"
   ]
  },
  {
   "cell_type": "code",
   "execution_count": 28,
   "id": "8e1626e0-13c8-4f53-b0b6-c455e340abea",
   "metadata": {},
   "outputs": [
    {
     "name": "stdout",
     "output_type": "stream",
     "text": [
      "1\n",
      "2\n"
     ]
    }
   ],
   "source": [
    "print(arr.ndim)\n",
    "print(arr2.ndim)\n",
    "# .ndim: 차원을 알려줌"
   ]
  },
  {
   "cell_type": "code",
   "execution_count": 30,
   "id": "66b8c873-8698-4c1a-8071-b22b65e881e5",
   "metadata": {},
   "outputs": [
    {
     "name": "stdout",
     "output_type": "stream",
     "text": [
      "(5,)\n",
      "(2, 4)\n"
     ]
    }
   ],
   "source": [
    "print(arr.shape)\n",
    "print(arr2.shape)\n",
    "# 행과 열의 개수를 알려줌."
   ]
  },
  {
   "cell_type": "code",
   "execution_count": 37,
   "id": "93fd0a68-a556-4712-9e00-679f612d5432",
   "metadata": {},
   "outputs": [
    {
     "name": "stdout",
     "output_type": "stream",
     "text": [
      "[0. 0. 0. 0. 0. 0. 0. 0. 0. 0.]\n",
      "[[0. 0. 0. 0. 0.]\n",
      " [0. 0. 0. 0. 0.]\n",
      " [0. 0. 0. 0. 0.]\n",
      " [0. 0. 0. 0. 0.]\n",
      " [0. 0. 0. 0. 0.]]\n",
      "[[[6.23042070e-307 4.67296746e-307 1.69121096e-306 1.00132143e-307]\n",
      "  [9.34577196e-307 1.37962456e-306 3.22647253e-307 7.56601165e-307]\n",
      "  [1.69118787e-306 1.33511290e-306 1.11258854e-306 1.11261502e-306]]\n",
      "\n",
      " [[1.42410839e-306 7.56597770e-307 6.23059726e-307 1.06811422e-306]\n",
      "  [1.11261774e-306 1.86921143e-306 8.06640627e-308 8.01106038e-307]\n",
      "  [6.89805151e-307 1.78020169e-306 1.42410974e-306 3.39986383e-317]]]\n"
     ]
    }
   ],
   "source": [
    "print(np.zeros(10)) # 0으로 채워준 10개의 구조를 만들어줌\n",
    "print(np.zeros((5, 5))) # 5로 채워준 5*5 행렬\n",
    "print(np.empty((2, 3, 4))) # 의미없는 숫자 채워줌"
   ]
  },
  {
   "cell_type": "code",
   "execution_count": 39,
   "id": "11e15778-0015-4ba5-bd13-5c5634ac78f7",
   "metadata": {},
   "outputs": [
    {
     "name": "stdout",
     "output_type": "stream",
     "text": [
      "[ 0  1  2  3  4  5  6  7  8  9 10 11]\n"
     ]
    }
   ],
   "source": [
    "print(np.arange(12))"
   ]
  },
  {
   "cell_type": "markdown",
   "id": "9505c176-ea46-4664-8352-4c6f58a310f7",
   "metadata": {},
   "source": [
    "## 1.2 자료형"
   ]
  },
  {
   "cell_type": "code",
   "execution_count": 42,
   "id": "a81d98a4-0993-439f-86af-7a559617304b",
   "metadata": {},
   "outputs": [
    {
     "name": "stdout",
     "output_type": "stream",
     "text": [
      "float64\n",
      "int32\n"
     ]
    }
   ],
   "source": [
    "arr1 = np.array([1, 2, 3], dtype=np.float64)\n",
    "arr2 = np.array([1, 2, 3], dtype=np.int32)\n",
    "# 데이터 타입 수정\n",
    "# 형태와 비트크기도 조절 가능\n",
    "\n",
    "print(arr1.dtype)\n",
    "print(arr2.dtype)"
   ]
  },
  {
   "cell_type": "code",
   "execution_count": 44,
   "id": "725703fe-222f-421c-b0c5-51f2dd8198b7",
   "metadata": {},
   "outputs": [
    {
     "name": "stdout",
     "output_type": "stream",
     "text": [
      "[1 2 3 4 5]\n",
      "[1. 2. 3. 4. 5.]\n",
      "float32\n"
     ]
    }
   ],
   "source": [
    "# 이미 만들어져 있을때 데이터타입 수정\n",
    "arr = np.array([1, 2, 3, 4, 5])\n",
    "print(arr)\n",
    "float_arr = arr.astype(np.float32)\n",
    "print(float_arr)\n",
    "print(float_arr.dtype)"
   ]
  },
  {
   "cell_type": "code",
   "execution_count": 46,
   "id": "4725c28e-d6cb-4a71-9929-68614d5df8d9",
   "metadata": {},
   "outputs": [
    {
     "name": "stdout",
     "output_type": "stream",
     "text": [
      "[ 1  2  3 -1 -2 -3]\n"
     ]
    }
   ],
   "source": [
    "arr = np.array([1.1, 2.2, 3.3, -1.1, -2.2, -3.3])\n",
    "result = arr.astype(np.int32)\n",
    "print(result)\n",
    "# 강제로 int 형태로 바꾸기\n",
    "# 데이터 손실이 발생됨"
   ]
  },
  {
   "cell_type": "code",
   "execution_count": 49,
   "id": "32c9ead2-ab52-4083-8c0b-283f49d39b45",
   "metadata": {},
   "outputs": [
    {
     "name": "stdout",
     "output_type": "stream",
     "text": [
      "[12 34 56]\n"
     ]
    }
   ],
   "source": [
    "result = np.array(['12', '34', '56'], dtype=np.int32)\n",
    "print(result)"
   ]
  },
  {
   "cell_type": "markdown",
   "id": "479275bc-d47f-4917-9056-74693aec0401",
   "metadata": {},
   "source": [
    "## 1.3 연산"
   ]
  },
  {
   "cell_type": "code",
   "execution_count": 51,
   "id": "e891ba50-0d22-468b-8063-9e00324ee283",
   "metadata": {},
   "outputs": [
    {
     "name": "stdout",
     "output_type": "stream",
     "text": [
      "[[1 2 3]\n",
      " [4 5 6]]\n"
     ]
    }
   ],
   "source": [
    "a = [\n",
    "    [1, 2, 3],\n",
    "    [4, 5, 6]\n",
    "]\n",
    "arr = np.array(a)\n",
    "print(arr)"
   ]
  },
  {
   "cell_type": "code",
   "execution_count": 57,
   "id": "fd727bb8-5181-418e-ab7a-af456fefc3ce",
   "metadata": {},
   "outputs": [
    {
     "name": "stdout",
     "output_type": "stream",
     "text": [
      "[[ 2  4  6]\n",
      " [ 8 10 12]]\n",
      "[[0 0 0]\n",
      " [0 0 0]]\n",
      "[[0.1 0.2 0.3]\n",
      " [0.4 0.5 0.6]]\n",
      "[[ 1  4  9]\n",
      " [16 25 36]]\n"
     ]
    }
   ],
   "source": [
    "print(arr + arr)\n",
    "print(arr - arr)\n",
    "print(arr / 10)\n",
    "print(arr ** 2)\n",
    "# 어떤 하나의 연산을 모든 데이터에 다 적용."
   ]
  },
  {
   "cell_type": "code",
   "execution_count": 58,
   "id": "abd29354-2b02-46af-b238-a2095bbd3f9f",
   "metadata": {},
   "outputs": [
    {
     "name": "stdout",
     "output_type": "stream",
     "text": [
      "[[1 2 3]\n",
      " [4 5 6]]\n",
      "[[3 2 1]\n",
      " [6 5 4]]\n"
     ]
    }
   ],
   "source": [
    "b = [\n",
    "    [3, 2, 1],\n",
    "    [6, 5, 4]\n",
    "]\n",
    "arr2 = np.array(b)\n",
    "\n",
    "print(arr)\n",
    "print(arr2)"
   ]
  },
  {
   "cell_type": "code",
   "execution_count": 60,
   "id": "36860a42-eaf5-4791-98fd-0ac5f0042b17",
   "metadata": {},
   "outputs": [
    {
     "name": "stdout",
     "output_type": "stream",
     "text": [
      "[[False False  True]\n",
      " [False False  True]]\n"
     ]
    }
   ],
   "source": [
    "# 비교연산\n",
    "print(arr > arr2)\n",
    "# 각각의 자리와 비교."
   ]
  },
  {
   "cell_type": "markdown",
   "id": "0c10994c-61ca-4774-bf04-3aead796722b",
   "metadata": {},
   "source": [
    "## 1.4 인덱싱, 슬라이싱"
   ]
  },
  {
   "cell_type": "code",
   "execution_count": 199,
   "id": "e65a96c3-d869-4ef9-9d3f-3ad45fbf81c0",
   "metadata": {},
   "outputs": [
    {
     "name": "stdout",
     "output_type": "stream",
     "text": [
      "[0 1 2 3 4 5 6 7 8 9]\n",
      "5\n",
      "[3 4 5]\n",
      "[ 0  1  2 99 99 99  6  7  8  9]\n"
     ]
    }
   ],
   "source": [
    "arr = np.arange(10)\n",
    "print(arr)\n",
    "print(arr[5]) # 인덱스 접근 가능\n",
    "print(arr[3:6])\n",
    "# 슬라이싱 가능\n",
    "\n",
    "arr[3:6] = 99\n",
    "print(arr)\n",
    "# 원본 데이터 자리에 99 값 들어가짐."
   ]
  },
  {
   "cell_type": "code",
   "execution_count": 200,
   "id": "8429889b-b511-4006-b6b7-c3876a927fae",
   "metadata": {},
   "outputs": [
    {
     "name": "stdout",
     "output_type": "stream",
     "text": [
      "[99 99 99]\n"
     ]
    }
   ],
   "source": [
    "slice_arr = arr[3:6]\n",
    "print(slice_arr)"
   ]
  },
  {
   "cell_type": "code",
   "execution_count": 201,
   "id": "8f81c37c-743e-468f-af09-ed9728607ecb",
   "metadata": {},
   "outputs": [
    {
     "name": "stdout",
     "output_type": "stream",
     "text": [
      "[99 55 99]\n",
      "[ 0  1  2 99 55 99  6  7  8  9]\n"
     ]
    }
   ],
   "source": [
    "slice_arr[1] = 55\n",
    "print(slice_arr)\n",
    "print(arr)\n",
    "\n",
    "# 원데이터에서 가져온 특정범위에 데이터를 변경하면\n",
    "# 원데이터도 변경됨."
   ]
  },
  {
   "cell_type": "code",
   "execution_count": 202,
   "id": "5c1c46cf-4a43-4166-8fa5-e458e64a9f39",
   "metadata": {},
   "outputs": [
    {
     "name": "stdout",
     "output_type": "stream",
     "text": [
      "[  0   1   2 100 100 100   6   7   8   9]\n"
     ]
    }
   ],
   "source": [
    "slice_arr[:] = 100\n",
    "print(arr)"
   ]
  },
  {
   "cell_type": "code",
   "execution_count": 203,
   "id": "b6169834-ed71-4c31-a958-e8f88c7408d5",
   "metadata": {},
   "outputs": [
    {
     "name": "stdout",
     "output_type": "stream",
     "text": [
      "[[1 2 3]\n",
      " [3 4 5]\n",
      " [7 8 9]]\n"
     ]
    }
   ],
   "source": [
    "a = [\n",
    "    [1, 2, 3],\n",
    "    [3, 4, 5],\n",
    "    [7, 8, 9]\n",
    "]\n",
    "arr = np.array(a)\n",
    "\n",
    "slice_arr[:] = 100\n",
    "print(arr)"
   ]
  },
  {
   "cell_type": "code",
   "execution_count": 95,
   "id": "0309e4f0-d3b2-4d7c-96b1-98473d622bac",
   "metadata": {},
   "outputs": [
    {
     "name": "stdout",
     "output_type": "stream",
     "text": [
      "[3 4 5]\n",
      "4\n",
      "4\n"
     ]
    }
   ],
   "source": [
    "print(arr[1])\n",
    "print(arr[1][1])\n",
    "\n",
    "# 만약 차원이 커진다면? [] 여러번 쓰기 불편하니 다르게 표현\n",
    "print(arr[1, 1]) # print(arr[1][1]) 이거랑 같음."
   ]
  },
  {
   "cell_type": "code",
   "execution_count": 96,
   "id": "2d4e8afb-a859-4a68-bdfc-f7a115175f87",
   "metadata": {},
   "outputs": [
    {
     "name": "stdout",
     "output_type": "stream",
     "text": [
      "[[[ 1  2  3]\n",
      "  [ 4  5  6]]\n",
      "\n",
      " [[ 7  8  9]\n",
      "  [10 11 12]]]\n"
     ]
    }
   ],
   "source": [
    "a = [\n",
    "    [\n",
    "        [1, 2, 3],\n",
    "        [4, 5, 6]\n",
    "    ],\n",
    "    [\n",
    "        [7, 8, 9],\n",
    "        [10, 11, 12]\n",
    "    ]\n",
    "]\n",
    "\n",
    "arr = np.array(a)\n",
    "print(arr)"
   ]
  },
  {
   "cell_type": "code",
   "execution_count": 97,
   "id": "932db963-eb84-4d7c-a107-f383e2e2ac6d",
   "metadata": {},
   "outputs": [
    {
     "name": "stdout",
     "output_type": "stream",
     "text": [
      "[[1 2 3]\n",
      " [4 5 6]]\n",
      "1\n",
      "1\n"
     ]
    }
   ],
   "source": [
    "print(arr[0])\n",
    "print(arr[0][0][0])\n",
    "print(arr[0, 0, 0])"
   ]
  },
  {
   "cell_type": "code",
   "execution_count": 99,
   "id": "56daddb3-6422-4b32-8a68-9e7bc85ab365",
   "metadata": {},
   "outputs": [
    {
     "data": {
      "text/plain": [
       "array([1, 2, 3, 4, 5, 6, 7, 8, 9])"
      ]
     },
     "execution_count": 99,
     "metadata": {},
     "output_type": "execute_result"
    }
   ],
   "source": [
    "arr = np.arange(10)\n",
    "arr[1:]"
   ]
  },
  {
   "cell_type": "code",
   "execution_count": 100,
   "id": "f9f96bf3-bd93-470d-a735-3bdef8d82ecc",
   "metadata": {},
   "outputs": [
    {
     "data": {
      "text/plain": [
       "array([[0, 1, 2],\n",
       "       [3, 4, 5]])"
      ]
     },
     "execution_count": 100,
     "metadata": {},
     "output_type": "execute_result"
    }
   ],
   "source": [
    "arr2d = np.arange(9).reshape(3, 3)\n",
    "# reshape() 은 내가 원하는 형태로 만들어줌\n",
    "# 지금은 3행 3열 2차원임\n",
    "\n",
    "arr2d[:2]"
   ]
  },
  {
   "cell_type": "code",
   "execution_count": 105,
   "id": "f3ca8bb9-59b8-44ad-872f-d5b9f4050296",
   "metadata": {},
   "outputs": [
    {
     "name": "stdout",
     "output_type": "stream",
     "text": [
      "[[0 1 2]\n",
      " [3 4 5]\n",
      " [6 7 8]]\n"
     ]
    },
    {
     "data": {
      "text/plain": [
       "array([[1, 2],\n",
       "       [4, 5]])"
      ]
     },
     "execution_count": 105,
     "metadata": {},
     "output_type": "execute_result"
    }
   ],
   "source": [
    "print(arr2d)\n",
    "arr2d[:2, 1:]"
   ]
  },
  {
   "cell_type": "code",
   "execution_count": 106,
   "id": "2a5cef7d-9323-4da7-b3dd-e5348d4d1946",
   "metadata": {},
   "outputs": [
    {
     "name": "stdout",
     "output_type": "stream",
     "text": [
      "[[0 1 2]\n",
      " [3 4 5]\n",
      " [6 7 8]]\n"
     ]
    },
    {
     "data": {
      "text/plain": [
       "array([[0],\n",
       "       [3],\n",
       "       [6]])"
      ]
     },
     "execution_count": 106,
     "metadata": {},
     "output_type": "execute_result"
    }
   ],
   "source": [
    "print(arr2d)\n",
    "arr2d[: , :1]"
   ]
  },
  {
   "cell_type": "code",
   "execution_count": 107,
   "id": "5844ee6b-d2f0-42c8-8f53-d6ac2aa248e8",
   "metadata": {},
   "outputs": [
    {
     "name": "stdout",
     "output_type": "stream",
     "text": [
      "[[0 1 2]\n",
      " [3 4 5]\n",
      " [6 7 8]]\n"
     ]
    },
    {
     "data": {
      "text/plain": [
       "array([[0, 1, 2],\n",
       "       [3, 4, 5]])"
      ]
     },
     "execution_count": 107,
     "metadata": {},
     "output_type": "execute_result"
    }
   ],
   "source": [
    "print(arr2d)\n",
    "arr2d[:2]"
   ]
  },
  {
   "cell_type": "markdown",
   "id": "eb5a0bbc-0e6f-49f3-96b4-f87ec914a4ea",
   "metadata": {},
   "source": [
    "## bool 값으로 선택"
   ]
  },
  {
   "cell_type": "code",
   "execution_count": 112,
   "id": "52e4447e-9102-4c60-a7a0-e672e24d5a92",
   "metadata": {},
   "outputs": [
    {
     "name": "stdout",
     "output_type": "stream",
     "text": [
      "['hong' 'kim' 'park' 'kim']\n",
      "[['수핫' '70']\n",
      " ['영어' '80']\n",
      " ['수학' '100']\n",
      " ['수학' '90']]\n"
     ]
    }
   ],
   "source": [
    "names = ['hong', 'kim', 'park', 'kim']\n",
    "scores = [\n",
    "    ['수핫', 70],\n",
    "    ['영어', 80],\n",
    "    ['수학', 100],\n",
    "    ['수학', 90],\n",
    "]\n",
    "\n",
    "names_arr = np.array(names)\n",
    "scores_arr = np.array(scores)\n",
    "\n",
    "print(names_arr)\n",
    "print(scores_arr)"
   ]
  },
  {
   "cell_type": "code",
   "execution_count": 116,
   "id": "060c9d2e-96be-4ae3-a6d2-ef4b4f1f54fc",
   "metadata": {},
   "outputs": [
    {
     "data": {
      "text/plain": [
       "array([False, False,  True, False])"
      ]
     },
     "execution_count": 116,
     "metadata": {},
     "output_type": "execute_result"
    }
   ],
   "source": [
    "names_arr == 'park'\n",
    "# 동인한 인덱스인 3번째 자리만 True\n",
    "# True 와 Flase로 채워진 길이가 동일한 배열을 만들어줌."
   ]
  },
  {
   "cell_type": "code",
   "execution_count": 115,
   "id": "4cac2724-9b29-45d1-b645-be4810f6fd56",
   "metadata": {},
   "outputs": [
    {
     "data": {
      "text/plain": [
       "array([['수학', '100']], dtype='<U21')"
      ]
     },
     "execution_count": 115,
     "metadata": {},
     "output_type": "execute_result"
    }
   ],
   "source": [
    "scores_arr[names_arr == 'park']"
   ]
  },
  {
   "cell_type": "code",
   "execution_count": 123,
   "id": "803cb130-f2d1-4752-bb82-4008b244b649",
   "metadata": {},
   "outputs": [
    {
     "data": {
      "text/plain": [
       "array([['영어', '80'],\n",
       "       ['수학', '90']], dtype='<U21')"
      ]
     },
     "execution_count": 123,
     "metadata": {},
     "output_type": "execute_result"
    }
   ],
   "source": [
    "# 이름이 kim인 사람의 과목과 점수 추출\n",
    "scores_arr[names_arr == 'kim']"
   ]
  },
  {
   "cell_type": "code",
   "execution_count": 124,
   "id": "dd37d929-c8d3-4a60-a541-6756e13bd600",
   "metadata": {},
   "outputs": [
    {
     "data": {
      "text/plain": [
       "array([['80'],\n",
       "       ['90']], dtype='<U21')"
      ]
     },
     "execution_count": 124,
     "metadata": {},
     "output_type": "execute_result"
    }
   ],
   "source": [
    "# 이름이 kim인 사람의 점수만 추출\n",
    "scores_arr[names_arr == 'kim', 1:]"
   ]
  },
  {
   "cell_type": "code",
   "execution_count": 126,
   "id": "fd350ca7-e4e8-4583-8e14-5529b70f3fb7",
   "metadata": {},
   "outputs": [
    {
     "data": {
      "text/plain": [
       "array(['80', '90'], dtype='<U21')"
      ]
     },
     "execution_count": 126,
     "metadata": {},
     "output_type": "execute_result"
    }
   ],
   "source": [
    "# 1차원 배열로 정렬\n",
    "scores_arr[names_arr == 'kim', 1]"
   ]
  },
  {
   "cell_type": "code",
   "execution_count": 128,
   "id": "5c92e6b2-ed22-40a8-a638-5c64af6054ef",
   "metadata": {},
   "outputs": [
    {
     "name": "stdout",
     "output_type": "stream",
     "text": [
      "[ True False  True False]\n",
      "[ True False  True False]\n"
     ]
    }
   ],
   "source": [
    "print(names_arr != 'kim')\n",
    "print(~(names_arr == 'kim'))\n",
    "# ~ 표시는 numpy에서 사용\n",
    "    # 데이터 값을 반대로보여줌"
   ]
  },
  {
   "cell_type": "code",
   "execution_count": 131,
   "id": "87311d9d-c298-42e1-adf8-5ca7871f7f8c",
   "metadata": {},
   "outputs": [
    {
     "data": {
      "text/plain": [
       "array([['수핫', '70']], dtype='<U21')"
      ]
     },
     "execution_count": 131,
     "metadata": {},
     "output_type": "execute_result"
    }
   ],
   "source": [
    "cond = names_arr == 'hong'\n",
    "scores_arr[cond]\n",
    "# 홍의 점수만 따로 저장하여 확인"
   ]
  },
  {
   "cell_type": "code",
   "execution_count": 134,
   "id": "3892ec37-4fe0-41aa-8372-61721f4fc85f",
   "metadata": {},
   "outputs": [
    {
     "data": {
      "text/plain": [
       "array([['영어', '80'],\n",
       "       ['수학', '100'],\n",
       "       ['수학', '90']], dtype='<U21')"
      ]
     },
     "execution_count": 134,
     "metadata": {},
     "output_type": "execute_result"
    }
   ],
   "source": [
    "cond = (names_arr == 'kim') | (names_arr == 'park')\n",
    "scores_arr[cond]\n",
    "# kim 과 hong 과목과 점수보기"
   ]
  },
  {
   "cell_type": "markdown",
   "id": "91a5a1e7-10e8-4fa7-b247-cfe4e5ade726",
   "metadata": {},
   "source": [
    "## 1.6 팬시 인덱싱(fancy indexing)"
   ]
  },
  {
   "cell_type": "code",
   "execution_count": 135,
   "id": "c77a5bd1-791b-4701-aae5-45bfea543cf3",
   "metadata": {},
   "outputs": [
    {
     "name": "stdout",
     "output_type": "stream",
     "text": [
      "[[ 0  1  2  3  4]\n",
      " [ 5  6  7  8  9]\n",
      " [10 11 12 13 14]\n",
      " [15 16 17 18 19]]\n"
     ]
    }
   ],
   "source": [
    "arr = np.arange(20).reshape(4, 5)\n",
    "print(arr)"
   ]
  },
  {
   "cell_type": "code",
   "execution_count": 142,
   "id": "91aa4601-3410-4fe8-85f0-9f5d484bb9b3",
   "metadata": {},
   "outputs": [
    {
     "name": "stdout",
     "output_type": "stream",
     "text": [
      "[[ 0  1  2  3]\n",
      " [12 13 14 15]]\n"
     ]
    }
   ],
   "source": [
    "print(arr[[0, 3]])\n",
    "# 0번째와 3번째 열이 실행됨.\n",
    "# 대괄호 두개는 내가 뽑고 싶은 열만 추출해줌"
   ]
  },
  {
   "cell_type": "code",
   "execution_count": 140,
   "id": "add3fdd6-f742-47b8-a785-a73fc2af4fc5",
   "metadata": {},
   "outputs": [
    {
     "name": "stdout",
     "output_type": "stream",
     "text": [
      "[[ 0  1  2  3]\n",
      " [ 4  5  6  7]\n",
      " [ 8  9 10 11]\n",
      " [12 13 14 15]\n",
      " [16 17 18 19]\n",
      " [20 21 22 23]\n",
      " [24 25 26 27]\n",
      " [28 29 30 31]]\n"
     ]
    }
   ],
   "source": [
    "arr = np.arange(32).reshape(8, 4)\n",
    "print(arr)"
   ]
  },
  {
   "cell_type": "code",
   "execution_count": 141,
   "id": "8adff150-4b01-4240-a48c-74998438d451",
   "metadata": {},
   "outputs": [
    {
     "name": "stdout",
     "output_type": "stream",
     "text": [
      "[[ 0  1  2  3]\n",
      " [12 13 14 15]\n",
      " [ 8  9 10 11]\n",
      " [ 4  5  6  7]\n",
      " [24 25 26 27]]\n"
     ]
    }
   ],
   "source": [
    "print(arr[[0, 3, 2, 1, 6]])"
   ]
  },
  {
   "cell_type": "code",
   "execution_count": 144,
   "id": "e5e53b0a-7734-4164-9f3f-f803bb5bb945",
   "metadata": {},
   "outputs": [
    {
     "name": "stdout",
     "output_type": "stream",
     "text": [
      "[[20 21 22 23]\n",
      " [28 29 30 31]]\n"
     ]
    }
   ],
   "source": [
    "print(arr[[-3, -1]])\n",
    "# 뒤에서 3번째, 뒤에서 1번째"
   ]
  },
  {
   "cell_type": "code",
   "execution_count": 146,
   "id": "28761265-b155-40c8-b75f-27c16a3af232",
   "metadata": {},
   "outputs": [
    {
     "data": {
      "text/plain": [
       "array([15, 10,  5])"
      ]
     },
     "execution_count": 146,
     "metadata": {},
     "output_type": "execute_result"
    }
   ],
   "source": [
    "arr[[3, 2, 1], [3, 2, 1]]\n",
    "# 3열 3행값, 2열2행값, 1열 1행값"
   ]
  },
  {
   "cell_type": "markdown",
   "id": "963447e5-feeb-4186-b875-758561491804",
   "metadata": {},
   "source": [
    "## 1.7 전치행렬\n",
    "- 열과 행을 바꾼 행렬"
   ]
  },
  {
   "cell_type": "code",
   "execution_count": 151,
   "id": "52a3e43e-5ede-4c0b-b6f9-982dde292ac6",
   "metadata": {},
   "outputs": [
    {
     "name": "stdout",
     "output_type": "stream",
     "text": [
      "[[ 0  1  2  3  4]\n",
      " [ 5  6  7  8  9]\n",
      " [10 11 12 13 14]]\n",
      "[[ 0  5 10]\n",
      " [ 1  6 11]\n",
      " [ 2  7 12]\n",
      " [ 3  8 13]\n",
      " [ 4  9 14]]\n"
     ]
    }
   ],
   "source": [
    "arr = np.arange(15).reshape(3, 5)\n",
    "print(arr)\n",
    "print(arr.T)"
   ]
  },
  {
   "cell_type": "code",
   "execution_count": 155,
   "id": "a80251a8-24e3-409f-9fdd-5e308138b780",
   "metadata": {},
   "outputs": [
    {
     "name": "stdout",
     "output_type": "stream",
     "text": [
      "[[ 30  80 130]\n",
      " [ 80 255 430]\n",
      " [130 430 730]]\n",
      "[[ 30  80 130]\n",
      " [ 80 255 430]\n",
      " [130 430 730]]\n"
     ]
    }
   ],
   "source": [
    "print(np.dot(arr, arr.T))\n",
    "print(arr @ arr.T)\n",
    "# arr 와 arr 전치행렬의 곱\n",
    "# 둘 다 똑같음"
   ]
  },
  {
   "cell_type": "markdown",
   "id": "be84558d-565c-44ce-9243-9e87f028c8c6",
   "metadata": {},
   "source": [
    "## 난수 생성"
   ]
  },
  {
   "cell_type": "code",
   "execution_count": 157,
   "id": "bb5fa6c6-e224-4d5d-8834-84541990162d",
   "metadata": {},
   "outputs": [
    {
     "name": "stdout",
     "output_type": "stream",
     "text": [
      "[[-1.23971001e+00 -7.17251098e-01 -7.69919702e-01  9.98601905e-01]\n",
      " [-2.39358510e-01 -9.65770542e-01 -2.09710651e+00 -1.42907492e-01]\n",
      " [ 1.17381621e+00  1.97658300e+00 -1.19660032e-03 -9.72032662e-02]\n",
      " [-1.16840098e+00  4.79013594e-01  4.41768435e-01 -1.07413473e+00]]\n"
     ]
    }
   ],
   "source": [
    "sample = np.random.standard_normal(size=(4, 4))\n",
    "print(sample)"
   ]
  },
  {
   "cell_type": "code",
   "execution_count": 161,
   "id": "0b88802d-1dcd-461c-b122-5b5be415663d",
   "metadata": {},
   "outputs": [
    {
     "name": "stdout",
     "output_type": "stream",
     "text": [
      "[[       nan        nan        nan 0.99930071]\n",
      " [       nan        nan        nan        nan]\n",
      " [1.08342799 1.40591002        nan        nan]\n",
      " [       nan 0.69210808 0.66465663        nan]]\n"
     ]
    },
    {
     "name": "stderr",
     "output_type": "stream",
     "text": [
      "C:\\Users\\2-22\\AppData\\Local\\Temp\\ipykernel_9316\\937923293.py:1: RuntimeWarning: invalid value encountered in sqrt\n",
      "  print(np.sqrt(sample))\n"
     ]
    }
   ],
   "source": [
    "print(np.sqrt(sample))\n",
    "# 음수에 루트가 씌어져 설명이 나옴.\n",
    "# nan: 숫자가 아닐때 나옴.\n",
    "# sqrt는 실수의 영역이 아니면 nan 값이 나옴."
   ]
  },
  {
   "cell_type": "code",
   "execution_count": 163,
   "id": "e1aa3509-a139-46e7-b9dd-c6580e725dbb",
   "metadata": {},
   "outputs": [
    {
     "name": "stdout",
     "output_type": "stream",
     "text": [
      "[[1.23971001e+00 7.17251098e-01 7.69919702e-01 9.98601905e-01]\n",
      " [2.39358510e-01 9.65770542e-01 2.09710651e+00 1.42907492e-01]\n",
      " [1.17381621e+00 1.97658300e+00 1.19660032e-03 9.72032662e-02]\n",
      " [1.16840098e+00 4.79013594e-01 4.41768435e-01 1.07413473e+00]]\n"
     ]
    }
   ],
   "source": [
    "print(np.abs(sample))\n",
    "# abs: 절대값"
   ]
  },
  {
   "cell_type": "code",
   "execution_count": 172,
   "id": "7352e85e-5220-433a-9327-0502dda0f683",
   "metadata": {},
   "outputs": [
    {
     "name": "stderr",
     "output_type": "stream",
     "text": [
      "C:\\Users\\2-22\\AppData\\Local\\Temp\\ipykernel_9316\\53356097.py:1: RuntimeWarning: invalid value encountered in sqrt\n",
      "  np.isnan(np.sqrt(sample))\n"
     ]
    },
    {
     "data": {
      "text/plain": [
       "array([[ True,  True,  True, False],\n",
       "       [ True,  True,  True,  True],\n",
       "       [False, False,  True,  True],\n",
       "       [ True, False, False,  True]])"
      ]
     },
     "execution_count": 172,
     "metadata": {},
     "output_type": "execute_result"
    }
   ],
   "source": [
    "np.isnan(np.sqrt(sample))\n",
    "# nan 값인 경우에만 True 표시"
   ]
  },
  {
   "cell_type": "markdown",
   "id": "605a765e-4e42-463b-bc2e-e5f3444bcafc",
   "metadata": {},
   "source": [
    "### 데이터 시각화 해보기"
   ]
  },
  {
   "cell_type": "code",
   "execution_count": 177,
   "id": "453a723d-0eac-47bc-addc-8b84a2dae616",
   "metadata": {},
   "outputs": [
    {
     "name": "stdout",
     "output_type": "stream",
     "text": [
      "[  0   1   2 ... -12 -13 -14]\n"
     ]
    }
   ],
   "source": [
    "import random\n",
    "position = 0\n",
    "walk = [position]\n",
    "\n",
    "nsteps = 1000\n",
    "for i in range(nsteps):\n",
    "    step = 1 if random.randint(0, 1) else -1\n",
    "    position += step\n",
    "    walk.append(position)\n",
    "\n",
    "walk_arr = np.array(walk)\n",
    "print(walk_arr)"
   ]
  },
  {
   "cell_type": "code",
   "execution_count": 175,
   "id": "af7d63d5-eff5-4358-a418-2e396d9af370",
   "metadata": {},
   "outputs": [],
   "source": [
    "import matplotlib.pyplot as plt"
   ]
  },
  {
   "cell_type": "code",
   "execution_count": 176,
   "id": "2a3f00be-86f5-4835-a40c-e715f951bfb3",
   "metadata": {},
   "outputs": [
    {
     "data": {
      "text/plain": [
       "<Figure size 640x480 with 0 Axes>"
      ]
     },
     "execution_count": 176,
     "metadata": {},
     "output_type": "execute_result"
    },
    {
     "data": {
      "text/plain": [
       "<Figure size 640x480 with 0 Axes>"
      ]
     },
     "metadata": {},
     "output_type": "display_data"
    }
   ],
   "source": [
    "plt.figure()"
   ]
  },
  {
   "cell_type": "code",
   "execution_count": 181,
   "id": "3bfc96a2-57a5-491e-9c88-5c927f9445a3",
   "metadata": {},
   "outputs": [
    {
     "data": {
      "image/png": "[encoded data removed]",
      "text/plain": [
       "<Figure size 640x480 with 1 Axes>"
      ]
     },
     "metadata": {},
     "output_type": "display_data"
    }
   ],
   "source": [
    "plt.plot(walk_arr[:100])\n",
    "plt.show()"
   ]
  },
  {
   "cell_type": "code",
   "execution_count": 186,
   "id": "fd520c2d-953b-4ef2-aeb4-f0b35b1596e0",
   "metadata": {},
   "outputs": [
    {
     "name": "stdout",
     "output_type": "stream",
     "text": [
      "6\n",
      "-3\n",
      "9\n"
     ]
    }
   ],
   "source": [
    "print(walk_arr[:100].max())\n",
    "print(walk_arr[:100].min())\n",
    "print((walk_arr[:100] >= 5).argmax()) # 5를 넘는 첫번째 자리"
   ]
  },
  {
   "cell_type": "code",
   "execution_count": null,
   "id": "ba58450b-32dc-4bfe-8c8f-e7a4d2370edd",
   "metadata": {},
   "outputs": [],
   "source": []
  }
 ],
 "metadata": {
  "kernelspec": {
   "display_name": "Python 3 (ipykernel)",
   "language": "python",
   "name": "python3"
  },
  "language_info": {
   "codemirror_mode": {
    "name": "ipython",
    "version": 3
   },
   "file_extension": ".py",
   "mimetype": "text/x-python",
   "name": "python",
   "nbconvert_exporter": "python",
   "pygments_lexer": "ipython3",
   "version": "3.12.4"
  }
 },
 "nbformat": 4,
 "nbformat_minor": 5
}
